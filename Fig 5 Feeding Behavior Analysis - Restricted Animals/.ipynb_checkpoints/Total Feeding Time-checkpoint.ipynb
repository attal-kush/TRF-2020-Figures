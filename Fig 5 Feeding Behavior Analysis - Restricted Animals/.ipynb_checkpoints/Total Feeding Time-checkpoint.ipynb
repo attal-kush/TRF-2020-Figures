{
 "cells": [
  {
   "cell_type": "markdown",
   "metadata": {},
   "source": [
    "# Compare total amount of time the rats in each group spent eating"
   ]
  },
  {
   "cell_type": "code",
   "execution_count": 1,
   "metadata": {},
   "outputs": [],
   "source": [
    "import pandas as pd\n",
    "import numpy as np\n",
    "import matplotlib.pyplot as plt\n",
    "import seaborn as sns"
   ]
  },
  {
   "cell_type": "markdown",
   "metadata": {},
   "source": [
    "## Download data on total amount of time spent eating"
   ]
  },
  {
   "cell_type": "markdown",
   "metadata": {},
   "source": [
    "The variables \"light_food\" and \"dark_food\" contain total time(in seconds) each rat spent eating during light and dark period respectively"
   ]
  },
  {
   "cell_type": "code",
   "execution_count": 3,
   "metadata": {},
   "outputs": [
    {
     "data": {
      "text/html": [
       "<div>\n",
       "<style scoped>\n",
       "    .dataframe tbody tr th:only-of-type {\n",
       "        vertical-align: middle;\n",
       "    }\n",
       "\n",
       "    .dataframe tbody tr th {\n",
       "        vertical-align: top;\n",
       "    }\n",
       "\n",
       "    .dataframe thead th {\n",
       "        text-align: right;\n",
       "    }\n",
       "</style>\n",
       "<table border=\"1\" class=\"dataframe\">\n",
       "  <thead>\n",
       "    <tr style=\"text-align: right;\">\n",
       "      <th></th>\n",
       "      <th>light_food</th>\n",
       "      <th>dark_food</th>\n",
       "      <th>group</th>\n",
       "    </tr>\n",
       "    <tr>\n",
       "      <th>Rat</th>\n",
       "      <th></th>\n",
       "      <th></th>\n",
       "      <th></th>\n",
       "    </tr>\n",
       "  </thead>\n",
       "  <tbody>\n",
       "    <tr>\n",
       "      <th>2</th>\n",
       "      <td>256</td>\n",
       "      <td>1172</td>\n",
       "      <td>control ad lib</td>\n",
       "    </tr>\n",
       "    <tr>\n",
       "      <th>3</th>\n",
       "      <td>98</td>\n",
       "      <td>504</td>\n",
       "      <td>control ad lib</td>\n",
       "    </tr>\n",
       "    <tr>\n",
       "      <th>4</th>\n",
       "      <td>230</td>\n",
       "      <td>849</td>\n",
       "      <td>control ad lib</td>\n",
       "    </tr>\n",
       "    <tr>\n",
       "      <th>5</th>\n",
       "      <td>52</td>\n",
       "      <td>379</td>\n",
       "      <td>control ad lib</td>\n",
       "    </tr>\n",
       "    <tr>\n",
       "      <th>6</th>\n",
       "      <td>251</td>\n",
       "      <td>760</td>\n",
       "      <td>control ad lib</td>\n",
       "    </tr>\n",
       "  </tbody>\n",
       "</table>\n",
       "</div>"
      ],
      "text/plain": [
       "     light_food  dark_food           group\n",
       "Rat                                       \n",
       "2           256       1172  control ad lib\n",
       "3            98        504  control ad lib\n",
       "4           230        849  control ad lib\n",
       "5            52        379  control ad lib\n",
       "6           251        760  control ad lib"
      ]
     },
     "execution_count": 3,
     "metadata": {},
     "output_type": "execute_result"
    }
   ],
   "source": [
    "feeding_location = 'https://www.dropbox.com/s/mvl9lzxj6zag33l/food_total.csv?dl=1'\n",
    "feeding_data = pd.read_csv(feeding_location , index_col=0)\n",
    "feeding_data.head() "
   ]
  },
  {
   "cell_type": "markdown",
   "metadata": {},
   "source": [
    "### Download plot parameters"
   ]
  },
  {
   "cell_type": "code",
   "execution_count": 4,
   "metadata": {},
   "outputs": [
    {
     "data": {
      "text/html": [
       "<div>\n",
       "<style scoped>\n",
       "    .dataframe tbody tr th:only-of-type {\n",
       "        vertical-align: middle;\n",
       "    }\n",
       "\n",
       "    .dataframe tbody tr th {\n",
       "        vertical-align: top;\n",
       "    }\n",
       "\n",
       "    .dataframe thead th {\n",
       "        text-align: right;\n",
       "    }\n",
       "</style>\n",
       "<table border=\"1\" class=\"dataframe\">\n",
       "  <thead>\n",
       "    <tr style=\"text-align: right;\">\n",
       "      <th></th>\n",
       "      <th>color</th>\n",
       "      <th>marker</th>\n",
       "      <th>line_type</th>\n",
       "      <th>hatches</th>\n",
       "      <th>hatch_colors</th>\n",
       "      <th>fill_color</th>\n",
       "      <th>label</th>\n",
       "    </tr>\n",
       "    <tr>\n",
       "      <th>group</th>\n",
       "      <th></th>\n",
       "      <th></th>\n",
       "      <th></th>\n",
       "      <th></th>\n",
       "      <th></th>\n",
       "      <th></th>\n",
       "      <th></th>\n",
       "    </tr>\n",
       "  </thead>\n",
       "  <tbody>\n",
       "    <tr>\n",
       "      <th>control ad lib</th>\n",
       "      <td>grey</td>\n",
       "      <td>o</td>\n",
       "      <td>-</td>\n",
       "      <td></td>\n",
       "      <td>grey</td>\n",
       "      <td>grey</td>\n",
       "      <td>CA</td>\n",
       "    </tr>\n",
       "    <tr>\n",
       "      <th>control restriction</th>\n",
       "      <td>grey</td>\n",
       "      <td>v</td>\n",
       "      <td>--</td>\n",
       "      <td>/</td>\n",
       "      <td>grey</td>\n",
       "      <td>white</td>\n",
       "      <td>CR</td>\n",
       "    </tr>\n",
       "    <tr>\n",
       "      <th>HFHS ad lib</th>\n",
       "      <td>red</td>\n",
       "      <td>o</td>\n",
       "      <td>-</td>\n",
       "      <td></td>\n",
       "      <td>red</td>\n",
       "      <td>red</td>\n",
       "      <td>HA</td>\n",
       "    </tr>\n",
       "    <tr>\n",
       "      <th>HFHS restriction</th>\n",
       "      <td>red</td>\n",
       "      <td>v</td>\n",
       "      <td>--</td>\n",
       "      <td>/</td>\n",
       "      <td>red</td>\n",
       "      <td>white</td>\n",
       "      <td>HR</td>\n",
       "    </tr>\n",
       "  </tbody>\n",
       "</table>\n",
       "</div>"
      ],
      "text/plain": [
       "                    color marker line_type hatches hatch_colors fill_color  \\\n",
       "group                                                                        \n",
       "control ad lib       grey      o         -                 grey       grey   \n",
       "control restriction  grey      v        --       /         grey      white   \n",
       "HFHS ad lib           red      o         -                  red        red   \n",
       "HFHS restriction      red      v        --       /          red      white   \n",
       "\n",
       "                    label  \n",
       "group                      \n",
       "control ad lib         CA  \n",
       "control restriction    CR  \n",
       "HFHS ad lib            HA  \n",
       "HFHS restriction       HR  "
      ]
     },
     "execution_count": 4,
     "metadata": {},
     "output_type": "execute_result"
    }
   ],
   "source": [
    "plot_data_location = \"https://www.dropbox.com/s/djpbvky0mwxpups/plotting_by_group.csv?dl=1\"\n",
    "plot_parameters = pd.read_csv(plot_data_location, index_col=0)\n",
    "plot_parameters"
   ]
  },
  {
   "cell_type": "markdown",
   "metadata": {},
   "source": [
    "### Function which plots given variable of the dataframe "
   ]
  },
  {
   "cell_type": "code",
   "execution_count": 11,
   "metadata": {},
   "outputs": [],
   "source": [
    "def eating_graph(df, variable, title):\n",
    "    ax1 = sns.swarmplot(x=df.group, y=df[variable], color='black', size=3)\n",
    "    ax = sns.boxplot    (x=df.group, y=df[variable], color='white', linewidth=1, palette=plot_parameters.fill_color, showfliers = False)\n",
    "    # Make hatched pattern to distinguish between Ad lib and restriction\n",
    "    for i, hatch, patch in zip(plot_parameters.hatch_colors, plot_parameters.hatches, ax.artists):\n",
    "        patch.set_hatch(hatch)\n",
    "        patch.set_edgecolor(i)\n",
    "    # Add x- and y-labels, ticks, and units\n",
    "    plt.ylabel(title, fontsize=10, fontweight = \"bold\", color = \"black\")\n",
    "    plt.ylim(0,2000)\n",
    "    plt.xlabel('')\n",
    "    plt.xticks(range(len(plot_parameters.index)), ('Cont\\nAL', 'Cont\\nRes', 'HFHS\\nAL', 'HFHS\\nRes'), fontweight = 'bold', fontsize=10, color = \"black\")\n",
    "    plt.yticks(fontweight = 'bold', fontsize=10, color = \"black\")\n",
    "    plt.setp(ax.lines, color=\"black\")\n",
    "    return()\n"
   ]
  },
  {
   "cell_type": "code",
   "execution_count": 12,
   "metadata": {
    "scrolled": true
   },
   "outputs": [
    {
     "data": {
      "text/plain": [
       "()"
      ]
     },
     "execution_count": 12,
     "metadata": {},
     "output_type": "execute_result"
    },
    {
     "data": {
      "image/png": "[encoded data removed]",
      "text/plain": [
       "<Figure size 864x432 with 2 Axes>"
      ]
     },
     "metadata": {
      "needs_background": "light"
     },
     "output_type": "display_data"
    }
   ],
   "source": [
    "plt.figure(figsize=(12,6))\n",
    "plt.subplot(1,2,1)\n",
    "eating_graph(feeding_data, 'light_food', \"Light Eating (sec)\")\n",
    "plt.subplot(1,2,2)\n",
    "eating_graph(feeding_data, 'dark_food', \"Dark Eating (sec)\")"
   ]
  },
  {
   "cell_type": "code",
   "execution_count": null,
   "metadata": {},
   "outputs": [],
   "source": []
  }
 ],
 "metadata": {
  "kernelspec": {
   "display_name": "Python 3",
   "language": "python",
   "name": "python3"
  },
  "language_info": {
   "codemirror_mode": {
    "name": "ipython",
    "version": 3
   },
   "file_extension": ".py",
   "mimetype": "text/x-python",
   "name": "python",
   "nbconvert_exporter": "python",
   "pygments_lexer": "ipython3",
   "version": "3.7.1"
  }
 },
 "nbformat": 4,
 "nbformat_minor": 2
}
