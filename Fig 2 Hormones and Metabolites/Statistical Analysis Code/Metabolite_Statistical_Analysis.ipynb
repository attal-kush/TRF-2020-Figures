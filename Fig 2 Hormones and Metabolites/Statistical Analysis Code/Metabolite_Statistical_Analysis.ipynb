{
 "cells": [
  {
   "cell_type": "markdown",
   "metadata": {},
   "source": [
    "# Metabolite Figures\n",
    "\n",
    "In this jupyter notebook, I will run statistical analysus for each of 4 metabolites among the 4 diet groups. The 4 metabolites will be: \n",
    "1. Adiponectin\n",
    "2. Leptin\n",
    "3. Triglyceride\n",
    "4. Liver Weight  <font color=red>Replaced Cholesterol</font> \n",
    "\n",
    "I will perform statistical analysis of each of the metabolite levels to see which diet group significantly differed from another diet group. I will run 3 tests:\n",
    "1. 2-sample independent t-test\n",
    "2. ANOVA\n",
    "3. MannU Whitney Analysis"
   ]
  },
  {
   "cell_type": "code",
   "execution_count": 1,
   "metadata": {},
   "outputs": [],
   "source": [
    "#----------------------------------------------------------\n",
    "# Import important libraries\n",
    "#----------------------------------------------------------\n",
    "import pandas  as pd\n",
    "import numpy   as np\n",
    "import matplotlib.pyplot as plt\n",
    "import seaborn as sns\n",
    "from scipy import stats\n",
    "from statsmodels.formula.api import ols\n",
    "from statsmodels.stats.anova import anova_lm\n",
    "import statsmodels.stats.multicomp\n",
    "sns.set()"
   ]
  },
  {
   "cell_type": "code",
   "execution_count": 2,
   "metadata": {},
   "outputs": [],
   "source": [
    "#----------------------------------------------------------\n",
    "# Method to run Anova\n",
    "#----------------------------------------------------------\n",
    "def anova_analysis(metabolite, anova_data):\n",
    "    formula = metabolite + ' ~ C(diet) + C(feeding_schedule) + C(diet):C(feeding_schedule)'\n",
    "    model = ols(formula, anova_data).fit()\n",
    "    aov_table = anova_lm(model, typ=1)\n",
    "    return aov_table"
   ]
  },
  {
   "cell_type": "markdown",
   "metadata": {},
   "source": [
    "## Importing Metabolite and Hormonal Master Data Document"
   ]
  },
  {
   "cell_type": "code",
   "execution_count": 3,
   "metadata": {},
   "outputs": [
    {
     "data": {
      "text/html": [
       "<div>\n",
       "<style scoped>\n",
       "    .dataframe tbody tr th:only-of-type {\n",
       "        vertical-align: middle;\n",
       "    }\n",
       "\n",
       "    .dataframe tbody tr th {\n",
       "        vertical-align: top;\n",
       "    }\n",
       "\n",
       "    .dataframe thead th {\n",
       "        text-align: right;\n",
       "    }\n",
       "</style>\n",
       "<table border=\"1\" class=\"dataframe\">\n",
       "  <thead>\n",
       "    <tr style=\"text-align: right;\">\n",
       "      <th></th>\n",
       "      <th>diet</th>\n",
       "      <th>feeding_schedule</th>\n",
       "      <th>liver_weight</th>\n",
       "      <th>total_abdominal_fat</th>\n",
       "      <th>total_gonadal_fat</th>\n",
       "      <th>total_fat_pad</th>\n",
       "      <th>final_BW</th>\n",
       "      <th>Leptin</th>\n",
       "      <th>Cholesterol</th>\n",
       "      <th>Triglyceride</th>\n",
       "      <th>GSP (umol/L)</th>\n",
       "      <th>Adiponectin</th>\n",
       "      <th>diet_and_schedule</th>\n",
       "    </tr>\n",
       "    <tr>\n",
       "      <th>Rat</th>\n",
       "      <th></th>\n",
       "      <th></th>\n",
       "      <th></th>\n",
       "      <th></th>\n",
       "      <th></th>\n",
       "      <th></th>\n",
       "      <th></th>\n",
       "      <th></th>\n",
       "      <th></th>\n",
       "      <th></th>\n",
       "      <th></th>\n",
       "      <th></th>\n",
       "      <th></th>\n",
       "    </tr>\n",
       "  </thead>\n",
       "  <tbody>\n",
       "    <tr>\n",
       "      <th>1</th>\n",
       "      <td>control</td>\n",
       "      <td>ad lib</td>\n",
       "      <td>17.2</td>\n",
       "      <td>4.6</td>\n",
       "      <td>3.9</td>\n",
       "      <td>8.5</td>\n",
       "      <td>380</td>\n",
       "      <td>1.637628</td>\n",
       "      <td>82.053143</td>\n",
       "      <td>0.942691</td>\n",
       "      <td>112.240742</td>\n",
       "      <td>4.988413</td>\n",
       "      <td>control ad lib</td>\n",
       "    </tr>\n",
       "    <tr>\n",
       "      <th>2</th>\n",
       "      <td>control</td>\n",
       "      <td>ad lib</td>\n",
       "      <td>14.0</td>\n",
       "      <td>5.4</td>\n",
       "      <td>3.4</td>\n",
       "      <td>8.8</td>\n",
       "      <td>318</td>\n",
       "      <td>2.032943</td>\n",
       "      <td>103.345415</td>\n",
       "      <td>1.254153</td>\n",
       "      <td>121.759269</td>\n",
       "      <td>4.256736</td>\n",
       "      <td>control ad lib</td>\n",
       "    </tr>\n",
       "    <tr>\n",
       "      <th>3</th>\n",
       "      <td>control</td>\n",
       "      <td>ad lib</td>\n",
       "      <td>13.6</td>\n",
       "      <td>5.5</td>\n",
       "      <td>3.5</td>\n",
       "      <td>9.0</td>\n",
       "      <td>351</td>\n",
       "      <td>1.555637</td>\n",
       "      <td>55.869566</td>\n",
       "      <td>0.228261</td>\n",
       "      <td>144.648151</td>\n",
       "      <td>6.666516</td>\n",
       "      <td>control ad lib</td>\n",
       "    </tr>\n",
       "    <tr>\n",
       "      <th>4</th>\n",
       "      <td>control</td>\n",
       "      <td>ad lib</td>\n",
       "      <td>14.5</td>\n",
       "      <td>5.2</td>\n",
       "      <td>4.7</td>\n",
       "      <td>9.9</td>\n",
       "      <td>357</td>\n",
       "      <td>2.997072</td>\n",
       "      <td>96.807567</td>\n",
       "      <td>0.407609</td>\n",
       "      <td>155.222252</td>\n",
       "      <td>3.853354</td>\n",
       "      <td>control ad lib</td>\n",
       "    </tr>\n",
       "    <tr>\n",
       "      <th>5</th>\n",
       "      <td>control</td>\n",
       "      <td>ad lib</td>\n",
       "      <td>13.5</td>\n",
       "      <td>7.4</td>\n",
       "      <td>5.6</td>\n",
       "      <td>13.0</td>\n",
       "      <td>363</td>\n",
       "      <td>2.704246</td>\n",
       "      <td>81.771341</td>\n",
       "      <td>0.619565</td>\n",
       "      <td>221.916665</td>\n",
       "      <td>4.382227</td>\n",
       "      <td>control ad lib</td>\n",
       "    </tr>\n",
       "  </tbody>\n",
       "</table>\n",
       "</div>"
      ],
      "text/plain": [
       "        diet feeding_schedule  liver_weight  total_abdominal_fat  \\\n",
       "Rat                                                                \n",
       "1    control           ad lib          17.2                  4.6   \n",
       "2    control           ad lib          14.0                  5.4   \n",
       "3    control           ad lib          13.6                  5.5   \n",
       "4    control           ad lib          14.5                  5.2   \n",
       "5    control           ad lib          13.5                  7.4   \n",
       "\n",
       "     total_gonadal_fat  total_fat_pad  final_BW    Leptin  Cholesterol  \\\n",
       "Rat                                                                      \n",
       "1                  3.9            8.5       380  1.637628    82.053143   \n",
       "2                  3.4            8.8       318  2.032943   103.345415   \n",
       "3                  3.5            9.0       351  1.555637    55.869566   \n",
       "4                  4.7            9.9       357  2.997072    96.807567   \n",
       "5                  5.6           13.0       363  2.704246    81.771341   \n",
       "\n",
       "     Triglyceride  GSP (umol/L)  Adiponectin diet_and_schedule  \n",
       "Rat                                                             \n",
       "1        0.942691    112.240742     4.988413    control ad lib  \n",
       "2        1.254153    121.759269     4.256736    control ad lib  \n",
       "3        0.228261    144.648151     6.666516    control ad lib  \n",
       "4        0.407609    155.222252     3.853354    control ad lib  \n",
       "5        0.619565    221.916665     4.382227    control ad lib  "
      ]
     },
     "execution_count": 3,
     "metadata": {},
     "output_type": "execute_result"
    }
   ],
   "source": [
    "#----------------------------------------------------------\n",
    "# Collect all the relevant data from the .xlxs file into one 'master_data' dataframe\n",
    "#----------------------------------------------------------\n",
    "master_data_location = 'https://www.dropbox.com/s/eu0szifsb9yimo3/2018VT_termination_data_master_document.csv?dl=1'\n",
    "master_data = pd.read_csv(master_data_location)\n",
    "master_data['group']=master_data.diet+' '+master_data.feeding_schedule\n",
    "master_data = master_data.set_index('group')\n",
    "master_data['diet-schedule']=master_data.diet+' '+master_data.feeding_schedule\n",
    "master_data = master_data.rename(columns={\" Leptin\": \"Leptin\", \"triglyceride (mg/mL)\": \"Triglyceride\"}, index = {\"control ad lib\": \"Control Ad Lib\", \"control restriction\": \"Control Restricted\", \"HFHS ad lib\": \"HFHS Ad Lib\", \"HFHS restriction\": \"HFHS Restricted\"})\n",
    "\n",
    "#----------------------------------------------------------\n",
    "# Collect all the relevant data from the .xlxs file into one 'master_data' dataframe\n",
    "#----------------------------------------------------------\n",
    "anova_data = pd.read_csv(master_data_location, index_col=0)\n",
    "anova_data = anova_data.rename(columns={\" Leptin\": \"Leptin\", \"triglyceride (mg/mL)\": \"Triglyceride\"})\n",
    "anova_data['diet_and_schedule'] = anova_data[\"diet\"].astype(str) +\" \"+ anova_data[\"feeding_schedule\"].astype(str)\n",
    "anova_data.head()\n"
   ]
  },
  {
   "cell_type": "markdown",
   "metadata": {},
   "source": [
    "# 1. 2-sample indepdentent t-test\n",
    "\n",
    "I will use Student's t-test (default version in stats) to compare metabolite levels between diet groups"
   ]
  },
  {
   "cell_type": "code",
   "execution_count": 4,
   "metadata": {},
   "outputs": [
    {
     "data": {
      "text/html": [
       "<div>\n",
       "<style scoped>\n",
       "    .dataframe tbody tr th:only-of-type {\n",
       "        vertical-align: middle;\n",
       "    }\n",
       "\n",
       "    .dataframe tbody tr th {\n",
       "        vertical-align: top;\n",
       "    }\n",
       "\n",
       "    .dataframe thead th {\n",
       "        text-align: right;\n",
       "    }\n",
       "</style>\n",
       "<table border=\"1\" class=\"dataframe\">\n",
       "  <thead>\n",
       "    <tr style=\"text-align: right;\">\n",
       "      <th></th>\n",
       "      <th>statistic</th>\n",
       "      <th>pvalue</th>\n",
       "    </tr>\n",
       "  </thead>\n",
       "  <tbody>\n",
       "    <tr>\n",
       "      <th>Leptin- HFHS AdLib vs HFHS Restricted</th>\n",
       "      <td>3.969400</td>\n",
       "      <td>0.001234</td>\n",
       "    </tr>\n",
       "    <tr>\n",
       "      <th>Adiponectin- Control AdLib vs Control Restricted</th>\n",
       "      <td>-4.614599</td>\n",
       "      <td>0.000287</td>\n",
       "    </tr>\n",
       "    <tr>\n",
       "      <th>Adiponectin- Control Adlib vs HFHS Ad Lib</th>\n",
       "      <td>-2.159933</td>\n",
       "      <td>0.047374</td>\n",
       "    </tr>\n",
       "    <tr>\n",
       "      <th>Adiponectin- Control Restricted vs HFHS Restricted</th>\n",
       "      <td>3.153935</td>\n",
       "      <td>0.006144</td>\n",
       "    </tr>\n",
       "    <tr>\n",
       "      <th>Triglyceride- Control Adlib vs HFHS Ad Lib</th>\n",
       "      <td>-4.964125</td>\n",
       "      <td>0.000170</td>\n",
       "    </tr>\n",
       "    <tr>\n",
       "      <th>Triglyceride- HFHS AdLib vs HFHS Restricted</th>\n",
       "      <td>2.381855</td>\n",
       "      <td>0.030901</td>\n",
       "    </tr>\n",
       "    <tr>\n",
       "      <th>Triglyceride- Control Restricted vs HFHS Restricted</th>\n",
       "      <td>-2.963942</td>\n",
       "      <td>0.009141</td>\n",
       "    </tr>\n",
       "  </tbody>\n",
       "</table>\n",
       "</div>"
      ],
      "text/plain": [
       "                                                    statistic    pvalue\n",
       "Leptin- HFHS AdLib vs HFHS Restricted                3.969400  0.001234\n",
       "Adiponectin- Control AdLib vs Control Restricted    -4.614599  0.000287\n",
       "Adiponectin- Control Adlib vs HFHS Ad Lib           -2.159933  0.047374\n",
       "Adiponectin- Control Restricted vs HFHS Restricted   3.153935  0.006144\n",
       "Triglyceride- Control Adlib vs HFHS Ad Lib          -4.964125  0.000170\n",
       "Triglyceride- HFHS AdLib vs HFHS Restricted          2.381855  0.030901\n",
       "Triglyceride- Control Restricted vs HFHS Restri...  -2.963942  0.009141"
      ]
     },
     "execution_count": 4,
     "metadata": {},
     "output_type": "execute_result"
    }
   ],
   "source": [
    "metabolites_hormones = ['Leptin', 'Adiponectin', 'Triglyceride', 'liver_weight']\n",
    "\n",
    "t_test_results = {}\n",
    "for group in metabolites_hormones:\n",
    "    group1 = anova_data.where(anova_data.diet_and_schedule == \"control ad lib\")[group].dropna()\n",
    "    group2 = anova_data.where(anova_data.diet_and_schedule == \"control restriction\")[group].dropna()\n",
    "    group3 = anova_data.where(anova_data.diet_and_schedule == \"HFHS ad lib\")[group].dropna()\n",
    "    group4 = anova_data.where(anova_data.diet_and_schedule == \"HFHS restriction\")[group].dropna()\n",
    "    # Control AdLib vs Control Restricted\n",
    "    t_test_results[group + \"- Control AdLib vs Control Restricted\"] = stats.ttest_ind(group1,group2)\n",
    "    # Control Adlib vs HFHS Ad Lib\n",
    "    t_test_results[group + \"- Control Adlib vs HFHS Ad Lib\"] = stats.ttest_ind(group1,group3)\n",
    "    # HFHS AdLib vs HFHS Restricted\n",
    "    t_test_results[group + \"- HFHS AdLib vs HFHS Restricted\"] = stats.ttest_ind(group3,group4)\n",
    "    # Control Restricted vs HFHS Restricted\n",
    "    t_test_results[group + \"- Control Restricted vs HFHS Restricted\"] = stats.ttest_ind(group2,group4)\n",
    "results_df = pd.DataFrame.from_dict(t_test_results,orient='Index')\n",
    "results_df.columns = ['statistic','pvalue']\n",
    "#results_df\n",
    "significant_group_v2 = results_df[results_df.pvalue<0.05].drop_duplicates(subset='pvalue')\n",
    "significant_group_v2"
   ]
  },
  {
   "cell_type": "markdown",
   "metadata": {},
   "source": [
    "## 2. ANOVA STATISTICS"
   ]
  },
  {
   "cell_type": "markdown",
   "metadata": {},
   "source": [
    "### First, I'll check for normality with the Shapiro-Wilk Test"
   ]
  },
  {
   "cell_type": "code",
   "execution_count": 5,
   "metadata": {},
   "outputs": [
    {
     "name": "stdout",
     "output_type": "stream",
     "text": [
      "control ad lib\n",
      "Adiponectin\n",
      "0.03896492347121239\n",
      "control restriction\n",
      "Adiponectin\n",
      "0.045302849262952805\n",
      "HFHS restriction\n",
      "Triglyceride\n",
      "0.04798966273665428\n",
      "HFHS ad lib\n",
      "liver_weight\n",
      "0.001900134258903563\n"
     ]
    }
   ],
   "source": [
    "for level in metabolites_hormones:\n",
    "    for group in master_data[\"diet-schedule\"].unique():\n",
    "        w, p = stats.shapiro(master_data.where(master_data[\"diet-schedule\"] == group)[level].dropna())\n",
    "        if p < 0.05:\n",
    "            print(group)\n",
    "            print(level)\n",
    "            print(p)"
   ]
  },
  {
   "cell_type": "markdown",
   "metadata": {},
   "source": [
    "### Next, I'll check for equal variance with the Levene Test"
   ]
  },
  {
   "cell_type": "code",
   "execution_count": 6,
   "metadata": {},
   "outputs": [
    {
     "name": "stdout",
     "output_type": "stream",
     "text": [
      "Triglyceride\n",
      "0.039568827050848826\n",
      "{'control ad lib': 0.13555148700425432, 'control restriction': 0.07353397763078243, 'HFHS ad lib': 1.7203411798598836, 'HFHS restriction': 0.883150351629787}\n"
     ]
    }
   ],
   "source": [
    "for level in metabolites_hormones:\n",
    "    \n",
    "    variances = {}\n",
    "    \n",
    "    for group in master_data[\"diet-schedule\"].unique():\n",
    "        variances[str(group)] = np.var(master_data.where(master_data[\"diet-schedule\"] == group)[level].dropna())\n",
    "\n",
    "    control_ad_lib_level = master_data.where(master_data[\"diet-schedule\"] == \"control ad lib\")[level].dropna()\n",
    "    control_restriction_level = master_data.where(master_data[\"diet-schedule\"] == \"control restriction\")[level].dropna()\n",
    "    HFHS_ad_lib_level = master_data.where(master_data[\"diet-schedule\"] == \"HFHS ad lib\")[level].dropna()\n",
    "    HFHS_restriction_level = master_data.where(master_data[\"diet-schedule\"] == \"HFHS restriction\")[level].dropna()\n",
    "\n",
    "    s, p = stats.levene(control_ad_lib_level, control_restriction_level, HFHS_ad_lib_level, HFHS_restriction_level)\n",
    "    if p < 0.05:\n",
    "        print(level)\n",
    "        print(p)\n",
    "        print(variances)"
   ]
  },
  {
   "cell_type": "markdown",
   "metadata": {},
   "source": [
    "In the future, I'll try running ANOVA with log-transformed data for Triglycerides"
   ]
  },
  {
   "cell_type": "markdown",
   "metadata": {},
   "source": [
    "### Now, I will Run an ANOVA Analysis"
   ]
  },
  {
   "cell_type": "code",
   "execution_count": 7,
   "metadata": {},
   "outputs": [
    {
     "name": "stdout",
     "output_type": "stream",
     "text": [
      "Leptin\n",
      "           group1               group2   p-adj reject\n",
      "      HFHS ad lib     HFHS restriction  0.0010   True\n",
      "      HFHS ad lib       control ad lib  0.0627  False\n",
      " HFHS restriction  control restriction  0.9000  False\n",
      "   control ad lib  control restriction  0.3947  False\n",
      "                              df     sum_sq    mean_sq          F    PR(>F)\n",
      "C(diet)                      1.0   1.144797   1.144797   2.069572  0.160284\n",
      "C(feeding_schedule)          1.0  10.164624  10.164624  18.375674  0.000164\n",
      "C(diet):C(feeding_schedule)  1.0   2.489159   2.489159   4.499917  0.041995\n",
      "Adiponectin\n",
      "           group1               group2   p-adj reject\n",
      "      HFHS ad lib     HFHS restriction  0.3415  False\n",
      "      HFHS ad lib       control ad lib  0.1533  False\n",
      " HFHS restriction  control restriction  0.0186   True\n",
      "   control ad lib  control restriction  0.0054   True\n",
      "                              df     sum_sq    mean_sq          F    PR(>F)\n",
      "C(diet)                      1.0   1.155967   1.155967   0.484708  0.491485\n",
      "C(feeding_schedule)          1.0   4.796307   4.796307   2.011135  0.166123\n",
      "C(diet):C(feeding_schedule)  1.0  33.416255  33.416255  14.011743  0.000742\n",
      "Triglyceride\n",
      "           group1               group2   p-adj reject\n",
      "      HFHS ad lib     HFHS restriction  0.0129   True\n",
      "      HFHS ad lib       control ad lib  0.0010   True\n",
      " HFHS restriction  control restriction  0.0811  False\n",
      "   control ad lib  control restriction  0.9000  False\n",
      "                              df     sum_sq    mean_sq          F    PR(>F)\n",
      "C(diet)                      1.0  24.584825  24.584825  32.303410  0.000003\n",
      "C(feeding_schedule)          1.0   4.021768   4.021768   5.284431  0.028420\n",
      "C(diet):C(feeding_schedule)  1.0   4.189899   4.189899   5.505348  0.025529\n",
      "liver_weight\n",
      "           group1               group2   p-adj reject\n",
      "      HFHS ad lib     HFHS restriction  0.3314  False\n",
      "      HFHS ad lib       control ad lib  0.1326  False\n",
      " HFHS restriction  control restriction  0.2962  False\n",
      "   control ad lib  control restriction  0.5922  False\n",
      "                              df     sum_sq    mean_sq         F    PR(>F)\n",
      "C(diet)                      1.0  57.742760  57.742760  7.794737  0.008894\n",
      "C(feeding_schedule)          1.0  32.423533  32.423533  4.376876  0.044713\n",
      "C(diet):C(feeding_schedule)  1.0   0.990004   0.990004  0.133641  0.717169\n"
     ]
    }
   ],
   "source": [
    "#----------------------------------------------------------\n",
    "# Run ANOVA stats\n",
    "#----------------------------------------------------------\n",
    "metabolites_hormones = ['Leptin', 'Adiponectin', 'Triglyceride', 'liver_weight']\n",
    "\n",
    "for group in metabolites_hormones:\n",
    "    anova_df = anova_analysis(group, anova_data)\n",
    "\n",
    "    # Tukey post-hoc\n",
    "    mc_interaction = statsmodels.stats.multicomp.MultiComparison(anova_data[group], anova_data['diet_and_schedule'])\n",
    "    # The problem with .tukeyhsd (or pairwise_tukeyhsd) in python or statsmodels is that the p-adj values are bound by 0.001 or 0.9 so exact values \n",
    "    #outside these intervals cannot be given - exact values can be calculated in R with aov() with factored groups and TukeyHSD(). But for our data,\n",
    "    # I don't think it's a problem since we can just set alpha = 0.001 and check if the \"reject\" value is True or False\n",
    "    mc_interaction_results = mc_interaction.tukeyhsd(alpha = 0.05)\n",
    "    mc_interaction = pd.DataFrame(data=mc_interaction_results._results_table.data[1:], columns=mc_interaction_results._results_table.data[0])\n",
    "    \n",
    "    print(group)\n",
    "    \n",
    "    result = pd.concat([anova_df, mc_interaction], axis = 0, sort = False)\n",
    "    result.to_csv(group + \"_statistical_analysis.csv\")\n",
    "    if result[\"reject\"].sum() > 0:\n",
    "        print(result.loc[[0, 1, 4, 5], [\"group1\", \"group2\", \"p-adj\", \"reject\"]].to_string(index = False))\n",
    "        print(result.iloc[0:3, 0:5])\n",
    "    "
   ]
  },
  {
   "cell_type": "markdown",
   "metadata": {},
   "source": [
    "### Send Results to CSV File"
   ]
  },
  {
   "cell_type": "code",
   "execution_count": 8,
   "metadata": {},
   "outputs": [],
   "source": [
    "df = pd.DataFrame()\n",
    "\n",
    "for group in metabolites_hormones:\n",
    "    anova_df = anova_analysis(group, anova_data)\n",
    "\n",
    "    # Tukey post-hoc\n",
    "    mc_interaction = statsmodels.stats.multicomp.MultiComparison(anova_data[group], anova_data['diet_and_schedule'])\n",
    "    # The problem with .tukeyhsd (or pairwise_tukeyhsd) in python or statsmodels is that the p-adj values are bound by 0.001 or 0.9 so exact values \n",
    "    #outside these intervals cannot be given - exact values can be calculated in R with aov() with factored groups and TukeyHSD(). But for our data,\n",
    "    # I don't think it's a problem since we can just set alpha = 0.001 and check if the \"reject\" value is True or False\n",
    "    mc_interaction_results = mc_interaction.tukeyhsd(alpha = 0.05)\n",
    "    mc_interaction = pd.DataFrame(data=mc_interaction_results._results_table.data[1:], columns=mc_interaction_results._results_table.data[0])\n",
    "    \n",
    "    result = pd.concat([anova_df, mc_interaction], axis = 0, sort = False)\n",
    "    result.iloc[0, -1] = group\n",
    "    df = df.append(result)\n",
    "\n",
    "df.fillna(\"\").rename(index={0:'', 1:'', 2:'', 3:'', 4:'', 5:''}).to_csv(\"Metabolites and Hormones - ANOVA with TukeyHSD.csv\")"
   ]
  },
  {
   "cell_type": "markdown",
   "metadata": {},
   "source": [
    "## 3.Mann-U Whitney Analysis"
   ]
  },
  {
   "cell_type": "code",
   "execution_count": 9,
   "metadata": {},
   "outputs": [
    {
     "data": {
      "text/html": [
       "<div>\n",
       "<style scoped>\n",
       "    .dataframe tbody tr th:only-of-type {\n",
       "        vertical-align: middle;\n",
       "    }\n",
       "\n",
       "    .dataframe tbody tr th {\n",
       "        vertical-align: top;\n",
       "    }\n",
       "\n",
       "    .dataframe thead th {\n",
       "        text-align: right;\n",
       "    }\n",
       "</style>\n",
       "<table border=\"1\" class=\"dataframe\">\n",
       "  <thead>\n",
       "    <tr style=\"text-align: right;\">\n",
       "      <th></th>\n",
       "      <th>Metabolite/Hormone</th>\n",
       "      <th>group1</th>\n",
       "      <th>group2</th>\n",
       "      <th>p_value</th>\n",
       "    </tr>\n",
       "  </thead>\n",
       "  <tbody>\n",
       "    <tr>\n",
       "      <th>0</th>\n",
       "      <td>Leptin</td>\n",
       "      <td>control ad lib</td>\n",
       "      <td>control restriction</td>\n",
       "      <td>0.046699</td>\n",
       "    </tr>\n",
       "    <tr>\n",
       "      <th>1</th>\n",
       "      <td>Leptin</td>\n",
       "      <td>control ad lib</td>\n",
       "      <td>HFHS restriction</td>\n",
       "      <td>0.021130</td>\n",
       "    </tr>\n",
       "    <tr>\n",
       "      <th>2</th>\n",
       "      <td>Leptin</td>\n",
       "      <td>control restriction</td>\n",
       "      <td>HFHS ad lib</td>\n",
       "      <td>0.005536</td>\n",
       "    </tr>\n",
       "    <tr>\n",
       "      <th>3</th>\n",
       "      <td>Leptin</td>\n",
       "      <td>HFHS ad lib</td>\n",
       "      <td>HFHS restriction</td>\n",
       "      <td>0.002132</td>\n",
       "    </tr>\n",
       "    <tr>\n",
       "      <th>4</th>\n",
       "      <td>Adiponectin</td>\n",
       "      <td>control ad lib</td>\n",
       "      <td>control restriction</td>\n",
       "      <td>0.002359</td>\n",
       "    </tr>\n",
       "    <tr>\n",
       "      <th>5</th>\n",
       "      <td>Adiponectin</td>\n",
       "      <td>control restriction</td>\n",
       "      <td>HFHS restriction</td>\n",
       "      <td>0.006709</td>\n",
       "    </tr>\n",
       "    <tr>\n",
       "      <th>6</th>\n",
       "      <td>Triglyceride</td>\n",
       "      <td>control ad lib</td>\n",
       "      <td>HFHS ad lib</td>\n",
       "      <td>0.000516</td>\n",
       "    </tr>\n",
       "    <tr>\n",
       "      <th>7</th>\n",
       "      <td>Triglyceride</td>\n",
       "      <td>HFHS ad lib</td>\n",
       "      <td>HFHS restriction</td>\n",
       "      <td>0.028369</td>\n",
       "    </tr>\n",
       "    <tr>\n",
       "      <th>8</th>\n",
       "      <td>liver_weight</td>\n",
       "      <td>control ad lib</td>\n",
       "      <td>HFHS ad lib</td>\n",
       "      <td>0.031789</td>\n",
       "    </tr>\n",
       "    <tr>\n",
       "      <th>9</th>\n",
       "      <td>liver_weight</td>\n",
       "      <td>control restriction</td>\n",
       "      <td>HFHS ad lib</td>\n",
       "      <td>0.002942</td>\n",
       "    </tr>\n",
       "    <tr>\n",
       "      <th>10</th>\n",
       "      <td>liver_weight</td>\n",
       "      <td>HFHS ad lib</td>\n",
       "      <td>control restriction</td>\n",
       "      <td>0.002942</td>\n",
       "    </tr>\n",
       "  </tbody>\n",
       "</table>\n",
       "</div>"
      ],
      "text/plain": [
       "   Metabolite/Hormone               group1               group2   p_value\n",
       "0              Leptin       control ad lib  control restriction  0.046699\n",
       "1              Leptin       control ad lib     HFHS restriction  0.021130\n",
       "2              Leptin  control restriction          HFHS ad lib  0.005536\n",
       "3              Leptin          HFHS ad lib     HFHS restriction  0.002132\n",
       "4         Adiponectin       control ad lib  control restriction  0.002359\n",
       "5         Adiponectin  control restriction     HFHS restriction  0.006709\n",
       "6        Triglyceride       control ad lib          HFHS ad lib  0.000516\n",
       "7        Triglyceride          HFHS ad lib     HFHS restriction  0.028369\n",
       "8        liver_weight       control ad lib          HFHS ad lib  0.031789\n",
       "9        liver_weight  control restriction          HFHS ad lib  0.002942\n",
       "10       liver_weight          HFHS ad lib  control restriction  0.002942"
      ]
     },
     "execution_count": 9,
     "metadata": {},
     "output_type": "execute_result"
    }
   ],
   "source": [
    "# Download metafile data with group description\n",
    "metafile_location = \"https://www.dropbox.com/s/37toe3vct1pipn5/groups.csv?dl=1\"\n",
    "metafile = pd.read_csv(metafile_location, index_col=0)\n",
    "metafile['group']=metafile.diet+' '+metafile.feeding\n",
    "metafile.head()\n",
    "\n",
    "# Create the columns for the Mann-U Whitney Analysis Table\n",
    "groups = metafile.group.unique()\n",
    "column_names = [\"Metabolite/Hormone\", \"group1\", \"group2\", \"p_value\"]\n",
    "df = pd.DataFrame(columns = column_names)\n",
    "\n",
    "# Separate dataframes by experimental condition\n",
    "feeding = metafile.feeding.unique()\n",
    "diet   = metafile.diet.unique()\n",
    "group_dict={}\n",
    "for x in diet:\n",
    "        for y in feeding:\n",
    "            group = str(x)+' '+str(y)\n",
    "            ids = metafile[(metafile.diet==x) & (metafile.feeding==y)].index\n",
    "            metabolite_hormones_by_group = anova_data.loc[ids]\n",
    "            metabolite_hormones_by_group.dropna(inplace = True)\n",
    "            group_dict[group]=metabolite_hormones_by_group\n",
    "\n",
    "# For each metabolite/hormone, compare expression between 4 experimental groups. \n",
    "# Save p-values and separate into significant and non-significant dataframes\n",
    "i=0\n",
    "for c in metabolites_hormones:\n",
    "    \n",
    "    for x in groups:\n",
    "        group1 = group_dict[x][c]\n",
    "        \n",
    "        for y in groups:\n",
    "            if(y!= x):\n",
    "                group2 = group_dict[y][c]\n",
    "                u_statistic, pVal = stats.mannwhitneyu(group1, group2)\n",
    "                df.loc[i]=[c, x, y, pVal]\n",
    "                i+=1\n",
    "df.to_csv('Metabolite_Hormone_p_values_Mann_Whitney.csv')\n",
    "# Sepatate significantly expressed genes (p<0.05) and  Remove repeated comparisons\n",
    "significant_metabolite_hormones = df[df.p_value<0.05].drop_duplicates(subset='p_value').reset_index(drop=True)\n",
    "# Save significant genes to .csv file\n",
    "significant_metabolite_hormones.to_csv('significant_Metabolite_Hormone_p_values_Mann_Whitney.csv')\n",
    "significant_metabolite_hormones"
   ]
  },
  {
   "cell_type": "markdown",
   "metadata": {},
   "source": [
    "# Optional Graphs/Measurements to Check"
   ]
  },
  {
   "cell_type": "code",
   "execution_count": 10,
   "metadata": {},
   "outputs": [
    {
     "name": "stderr",
     "output_type": "stream",
     "text": [
      "/Library/Frameworks/Python.framework/Versions/3.7/lib/python3.7/site-packages/seaborn/regression.py:546: UserWarning: The `size` paramter has been renamed to `height`; please update your code.\n",
      "  warnings.warn(msg, UserWarning)\n"
     ]
    },
    {
     "name": "stdout",
     "output_type": "stream",
     "text": [
      "(0.49607779042079164, 0.0024397766202878166)\n",
      "(0.4540228376826262, 0.00615096177265351)\n"
     ]
    },
    {
     "data": {
      "text/plain": [
       "<Figure size 288x288 with 0 Axes>"
      ]
     },
     "metadata": {},
     "output_type": "display_data"
    },
    {
     "data": {
      "image/png": "[encoded data removed]",
      "text/plain": [
       "<Figure size 270x270 with 1 Axes>"
      ]
     },
     "metadata": {
      "needs_background": "light"
     },
     "output_type": "display_data"
    },
    {
     "data": {
      "text/plain": [
       "<Figure size 288x288 with 0 Axes>"
      ]
     },
     "metadata": {},
     "output_type": "display_data"
    },
    {
     "data": {
      "image/png": "[encoded data removed]",
      "text/plain": [
       "<Figure size 270x270 with 1 Axes>"
      ]
     },
     "metadata": {
      "needs_background": "light"
     },
     "output_type": "display_data"
    }
   ],
   "source": [
    "colors= []\n",
    "for row in anova_data['diet_and_schedule']:\n",
    "    if (row == 'control ad lib'):\n",
    "        colors.append('black')\n",
    "    elif (row == 'control restriction'):\n",
    "        colors.append('gray')\n",
    "    elif (row == 'HFHS ad lib'):\n",
    "        colors.append('red')\n",
    "    else:\n",
    "        colors.append('darkred')\n",
    "    \n",
    "\n",
    "plt.figure(figsize=(4,4))\n",
    "sns.lmplot(x='liver_weight',y='Triglyceride', data= anova_data, line_kws={\"alpha\":0.7, \"lw\":2, 'color':\"black\"},scatter_kws={'color':colors,'s':150}, legend=True, size=3.75, aspect=1)\n",
    "#plt.tick_params(labelsize=12)\n",
    "plt.xlabel('Liver Weight',fontsize=15)\n",
    "plt.ylabel('Triglyceride', fontsize=15)\n",
    "print(stats.pearsonr(anova_data['liver_weight'], anova_data['Triglyceride']))\n",
    "\n",
    "plt.figure(figsize=(4,4))\n",
    "sns.lmplot(x='liver_weight',y='Leptin', data= anova_data, line_kws={\"alpha\":0.7, \"lw\":2, 'color':\"black\"},scatter_kws={'color':colors,'s':150}, legend=True, size=3.75, aspect=1)\n",
    "#plt.tick_params(labelsize=12)\n",
    "plt.xlabel('Liver Weight',fontsize=15)\n",
    "plt.ylabel('Leptin', fontsize=15)\n",
    "print(stats.pearsonr(anova_data['liver_weight'], anova_data['Leptin']))\n"
   ]
  },
  {
   "cell_type": "markdown",
   "metadata": {},
   "source": [
    "# Comparisions of Normalized Liver Weights"
   ]
  },
  {
   "cell_type": "code",
   "execution_count": 17,
   "metadata": {},
   "outputs": [
    {
     "data": {
      "text/html": [
       "<div>\n",
       "<style scoped>\n",
       "    .dataframe tbody tr th:only-of-type {\n",
       "        vertical-align: middle;\n",
       "    }\n",
       "\n",
       "    .dataframe tbody tr th {\n",
       "        vertical-align: top;\n",
       "    }\n",
       "\n",
       "    .dataframe thead th {\n",
       "        text-align: right;\n",
       "    }\n",
       "</style>\n",
       "<table border=\"1\" class=\"dataframe\">\n",
       "  <thead>\n",
       "    <tr style=\"text-align: right;\">\n",
       "      <th></th>\n",
       "      <th>statistic</th>\n",
       "      <th>pvalue</th>\n",
       "    </tr>\n",
       "  </thead>\n",
       "  <tbody>\n",
       "  </tbody>\n",
       "</table>\n",
       "</div>"
      ],
      "text/plain": [
       "Empty DataFrame\n",
       "Columns: [statistic, pvalue]\n",
       "Index: []"
      ]
     },
     "execution_count": 17,
     "metadata": {},
     "output_type": "execute_result"
    }
   ],
   "source": [
    "group1 = (anova_data.where(anova_data.diet_and_schedule == \"control ad lib\")[\"liver_weight\"].dropna())/(anova_data.where(anova_data.diet_and_schedule == \"control ad lib\")[\"final_BW\"].dropna())\n",
    "group2 = (anova_data.where(anova_data.diet_and_schedule == \"control restriction\")[\"liver_weight\"].dropna())/(anova_data.where(anova_data.diet_and_schedule == \"control restriction\")[\"final_BW\"].dropna())\n",
    "group3 = (anova_data.where(anova_data.diet_and_schedule == \"HFHS ad lib\")[\"liver_weight\"].dropna())/(anova_data.where(anova_data.diet_and_schedule == \"HFHS ad lib\")[\"final_BW\"].dropna())\n",
    "group4 = (anova_data.where(anova_data.diet_and_schedule == \"HFHS restriction\")[\"liver_weight\"].dropna())/(anova_data.where(anova_data.diet_and_schedule == \"HFHS restriction\")[\"final_BW\"].dropna())\n",
    "\n",
    "t_test_results = {}\n",
    "# Control AdLib vs Control Restricted\n",
    "t_test_results[\"- Control AdLib vs Control Restricted\"] = stats.ttest_ind(group1,group2)\n",
    "# Control Adlib vs HFHS Ad Lib\n",
    "t_test_results[\"- Control Adlib vs HFHS Ad Lib\"] = stats.ttest_ind(group1,group3)\n",
    "# HFHS AdLib vs HFHS Restricted\n",
    "t_test_results[\"- HFHS AdLib vs HFHS Restricted\"] = stats.ttest_ind(group3,group4)\n",
    "# Control Restricted vs HFHS Restricted\n",
    "t_test_results[\"- Control Restricted vs HFHS Restricted\"] = stats.ttest_ind(group2,group4)\n",
    "\n",
    "results_df = pd.DataFrame.from_dict(t_test_results,orient='Index')\n",
    "results_df.columns = ['statistic','pvalue']\n",
    "#results_df\n",
    "significant_group_v2 = results_df[results_df.pvalue<0.05].drop_duplicates(subset='pvalue')\n",
    "significant_group_v2\n"
   ]
  }
 ],
 "metadata": {
  "kernelspec": {
   "display_name": "Python 3",
   "language": "python",
   "name": "python3"
  },
  "language_info": {
   "codemirror_mode": {
    "name": "ipython",
    "version": 3
   },
   "file_extension": ".py",
   "mimetype": "text/x-python",
   "name": "python",
   "nbconvert_exporter": "python",
   "pygments_lexer": "ipython3",
   "version": "3.7.4"
  }
 },
 "nbformat": 4,
 "nbformat_minor": 4
}
