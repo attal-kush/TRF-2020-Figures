{
 "cells": [
  {
   "cell_type": "code",
   "execution_count": 2,
   "metadata": {},
   "outputs": [],
   "source": [
    "import pandas as pd\n",
    "import numpy as np\n",
    "import matplotlib.pyplot as plt\n",
    "import seaborn as sns"
   ]
  },
  {
   "cell_type": "code",
   "execution_count": 3,
   "metadata": {},
   "outputs": [
    {
     "name": "stdout",
     "output_type": "stream",
     "text": [
      "                     Rat02  Rat03  Rat04  Rat05  Rat06  Rat07  Rat08  Rat09\n",
      "Date_Time                                                                  \n",
      "1970-01-01 21:00:00      0      0      0      0      0      0      0    0.0\n",
      "1970-01-01 21:00:01      0      0      0      0      0      0      0    0.0\n",
      "1970-01-01 21:00:02      0      0      0      0      0      0      0    0.0\n",
      "1970-01-01 21:00:03      0      0      0      0      0      0      0    0.0\n",
      "1970-01-01 21:00:04      0      0      0      0      0      0      0    0.0\n",
      "                     Rat10  Rat11  Rat12  Rat13  Rat14  Rat15  Rat16  Rat17  \\\n",
      "Date_Time                                                                     \n",
      "1970-01-01 21:00:00    0.0    0.0    0.0    0.0    0.0    0.0    0.0    0.0   \n",
      "1970-01-01 21:00:01    0.0    0.0    0.0    0.0    0.0    0.0    0.0    0.0   \n",
      "1970-01-01 21:00:02    0.0    0.0    0.0    0.0    0.0    0.0    0.0    0.0   \n",
      "1970-01-01 21:00:03    0.0    0.0    0.0    0.0    0.0    0.0    0.0    0.0   \n",
      "1970-01-01 21:00:04    0.0    0.0    0.0    0.0    0.0    0.0    0.0    0.0   \n",
      "\n",
      "                     Rat18  \n",
      "Date_Time                   \n",
      "1970-01-01 21:00:00    0.0  \n",
      "1970-01-01 21:00:01    0.0  \n",
      "1970-01-01 21:00:02    0.0  \n",
      "1970-01-01 21:00:03    0.0  \n",
      "1970-01-01 21:00:04    0.0  \n"
     ]
    }
   ],
   "source": [
    "binary_names=['Feeding_Control_AdLib_Binary.csv', 'Feeding_Control_Restricted_Binary.csv', 'Feeding_HFHS_AdLib_Binary.csv','Feeding_HFHS_Restricted_Binary.csv']\n",
    "for x in binary_names[:2]:\n",
    "    df = pd.read_csv(x , index_col=0)  \n",
    "    "
   ]
  },
  {
   "cell_type": "code",
   "execution_count": null,
   "metadata": {},
   "outputs": [],
   "source": []
  }
 ],
 "metadata": {
  "kernelspec": {
   "display_name": "Python 3",
   "language": "python",
   "name": "python3"
  },
  "language_info": {
   "codemirror_mode": {
    "name": "ipython",
    "version": 3
   },
   "file_extension": ".py",
   "mimetype": "text/x-python",
   "name": "python",
   "nbconvert_exporter": "python",
   "pygments_lexer": "ipython3",
   "version": "3.7.6"
  }
 },
 "nbformat": 4,
 "nbformat_minor": 4
}
