{
 "cells": [
  {
   "cell_type": "markdown",
   "metadata": {},
   "source": [
    "# Figure 8: Gene Expression"
   ]
  },
  {
   "cell_type": "code",
   "execution_count": 1,
   "metadata": {},
   "outputs": [],
   "source": [
    "#----------------------------------------------------------\n",
    "# Import Libraries\n",
    "#----------------------------------------------------------\n",
    "import pandas as pd\n",
    "import numpy as np\n",
    "import scipy.stats as stats\n",
    "import matplotlib.pyplot as plt\n",
    "import matplotlib.patches as mpatches\n",
    "import seaborn as sns\n",
    "from statsmodels.formula.api import ols\n",
    "from statsmodels.stats.anova import anova_lm\n",
    "import statsmodels.stats.multicomp\n",
    "sns.set()\n",
    "\n",
    "#Set the background and size of the figure\n",
    "sns.set_style(\"whitegrid\", {'axes.grid' : False, 'axes.edgecolor': 'black', 'font.family': 'Arial'})\n",
    "my_pal = {\"Control Ad Lib\": \"gray\", \"HFHS Ad Lib\": \"red\", \"Control Restricted\": \"white\", \"HFHS Restricted\": \"white\"}\n",
    "plt.rcParams['hatch.linewidth'] = 3\n",
    "plt.rcParams['figure.dpi'] = 1000"
   ]
  },
  {
   "cell_type": "markdown",
   "metadata": {},
   "source": [
    "## Download gene data"
   ]
  },
  {
   "cell_type": "markdown",
   "metadata": {},
   "source": [
    "Download metafile data with the group description"
   ]
  },
  {
   "cell_type": "code",
   "execution_count": 2,
   "metadata": {},
   "outputs": [
    {
     "data": {
      "text/html": [
       "<div>\n",
       "<style scoped>\n",
       "    .dataframe tbody tr th:only-of-type {\n",
       "        vertical-align: middle;\n",
       "    }\n",
       "\n",
       "    .dataframe tbody tr th {\n",
       "        vertical-align: top;\n",
       "    }\n",
       "\n",
       "    .dataframe thead th {\n",
       "        text-align: right;\n",
       "    }\n",
       "</style>\n",
       "<table border=\"1\" class=\"dataframe\">\n",
       "  <thead>\n",
       "    <tr style=\"text-align: right;\">\n",
       "      <th></th>\n",
       "      <th>diet</th>\n",
       "      <th>feeding</th>\n",
       "      <th>group</th>\n",
       "    </tr>\n",
       "    <tr>\n",
       "      <th>Rat</th>\n",
       "      <th></th>\n",
       "      <th></th>\n",
       "      <th></th>\n",
       "    </tr>\n",
       "  </thead>\n",
       "  <tbody>\n",
       "    <tr>\n",
       "      <th>1</th>\n",
       "      <td>control</td>\n",
       "      <td>ad lib</td>\n",
       "      <td>control ad lib</td>\n",
       "    </tr>\n",
       "    <tr>\n",
       "      <th>2</th>\n",
       "      <td>control</td>\n",
       "      <td>ad lib</td>\n",
       "      <td>control ad lib</td>\n",
       "    </tr>\n",
       "    <tr>\n",
       "      <th>3</th>\n",
       "      <td>control</td>\n",
       "      <td>ad lib</td>\n",
       "      <td>control ad lib</td>\n",
       "    </tr>\n",
       "    <tr>\n",
       "      <th>4</th>\n",
       "      <td>control</td>\n",
       "      <td>ad lib</td>\n",
       "      <td>control ad lib</td>\n",
       "    </tr>\n",
       "    <tr>\n",
       "      <th>5</th>\n",
       "      <td>control</td>\n",
       "      <td>ad lib</td>\n",
       "      <td>control ad lib</td>\n",
       "    </tr>\n",
       "  </tbody>\n",
       "</table>\n",
       "</div>"
      ],
      "text/plain": [
       "        diet feeding           group\n",
       "Rat                                 \n",
       "1    control  ad lib  control ad lib\n",
       "2    control  ad lib  control ad lib\n",
       "3    control  ad lib  control ad lib\n",
       "4    control  ad lib  control ad lib\n",
       "5    control  ad lib  control ad lib"
      ]
     },
     "execution_count": 2,
     "metadata": {},
     "output_type": "execute_result"
    }
   ],
   "source": [
    "metafile_location = \"https://www.dropbox.com/s/37toe3vct1pipn5/groups.csv?dl=1\"\n",
    "metafile = pd.read_csv(metafile_location, index_col=0)\n",
    "metafile['group']=metafile.diet+' '+metafile.feeding\n",
    "metafile.head()"
   ]
  },
  {
   "cell_type": "markdown",
   "metadata": {},
   "source": [
    "Get the data using dropbox link. Extract the gene names using column heading and save them in **gene list**"
   ]
  },
  {
   "cell_type": "code",
   "execution_count": 3,
   "metadata": {},
   "outputs": [
    {
     "data": {
      "text/html": [
       "<div>\n",
       "<style scoped>\n",
       "    .dataframe tbody tr th:only-of-type {\n",
       "        vertical-align: middle;\n",
       "    }\n",
       "\n",
       "    .dataframe tbody tr th {\n",
       "        vertical-align: top;\n",
       "    }\n",
       "\n",
       "    .dataframe thead th {\n",
       "        text-align: right;\n",
       "    }\n",
       "</style>\n",
       "<table border=\"1\" class=\"dataframe\">\n",
       "  <thead>\n",
       "    <tr style=\"text-align: right;\">\n",
       "      <th></th>\n",
       "      <th>CART</th>\n",
       "      <th>NPY</th>\n",
       "      <th>AgRP</th>\n",
       "      <th>GLP1R</th>\n",
       "      <th>Npy2R</th>\n",
       "      <th>Ghsr</th>\n",
       "      <th>Insr</th>\n",
       "      <th>Lepr</th>\n",
       "      <th>MC4R</th>\n",
       "      <th>Cckar</th>\n",
       "      <th>Cckbr</th>\n",
       "      <th>Oxtr</th>\n",
       "      <th>group</th>\n",
       "      <th>diet</th>\n",
       "      <th>feeding_schedule</th>\n",
       "    </tr>\n",
       "  </thead>\n",
       "  <tbody>\n",
       "    <tr>\n",
       "      <th>2</th>\n",
       "      <td>1.369340</td>\n",
       "      <td>0.748760</td>\n",
       "      <td>2.161361</td>\n",
       "      <td>1.297956</td>\n",
       "      <td>1.560879</td>\n",
       "      <td>4.597757</td>\n",
       "      <td>1.468209</td>\n",
       "      <td>1.883721</td>\n",
       "      <td>0.820854</td>\n",
       "      <td>1.990703</td>\n",
       "      <td>1.074096</td>\n",
       "      <td>1.611840</td>\n",
       "      <td>control ad lib</td>\n",
       "      <td>control</td>\n",
       "      <td>ad lib</td>\n",
       "    </tr>\n",
       "    <tr>\n",
       "      <th>6</th>\n",
       "      <td>1.669095</td>\n",
       "      <td>0.670232</td>\n",
       "      <td>1.381644</td>\n",
       "      <td>2.179846</td>\n",
       "      <td>3.612036</td>\n",
       "      <td>2.853085</td>\n",
       "      <td>1.652634</td>\n",
       "      <td>2.870864</td>\n",
       "      <td>4.686374</td>\n",
       "      <td>2.871240</td>\n",
       "      <td>4.289009</td>\n",
       "      <td>1.493576</td>\n",
       "      <td>control ad lib</td>\n",
       "      <td>control</td>\n",
       "      <td>ad lib</td>\n",
       "    </tr>\n",
       "    <tr>\n",
       "      <th>7</th>\n",
       "      <td>1.430304</td>\n",
       "      <td>1.504685</td>\n",
       "      <td>1.663850</td>\n",
       "      <td>2.070428</td>\n",
       "      <td>3.752371</td>\n",
       "      <td>2.621707</td>\n",
       "      <td>1.534294</td>\n",
       "      <td>2.275886</td>\n",
       "      <td>1.668385</td>\n",
       "      <td>4.892259</td>\n",
       "      <td>2.609463</td>\n",
       "      <td>2.664512</td>\n",
       "      <td>control ad lib</td>\n",
       "      <td>control</td>\n",
       "      <td>ad lib</td>\n",
       "    </tr>\n",
       "    <tr>\n",
       "      <th>3</th>\n",
       "      <td>0.450856</td>\n",
       "      <td>1.787492</td>\n",
       "      <td>0.688038</td>\n",
       "      <td>0.864752</td>\n",
       "      <td>1.325854</td>\n",
       "      <td>0.425616</td>\n",
       "      <td>1.204578</td>\n",
       "      <td>0.918813</td>\n",
       "      <td>3.339488</td>\n",
       "      <td>2.791819</td>\n",
       "      <td>3.417703</td>\n",
       "      <td>1.214725</td>\n",
       "      <td>control ad lib</td>\n",
       "      <td>control</td>\n",
       "      <td>ad lib</td>\n",
       "    </tr>\n",
       "    <tr>\n",
       "      <th>4</th>\n",
       "      <td>1.267757</td>\n",
       "      <td>0.936041</td>\n",
       "      <td>0.497659</td>\n",
       "      <td>1.092165</td>\n",
       "      <td>0.968283</td>\n",
       "      <td>1.218026</td>\n",
       "      <td>1.067142</td>\n",
       "      <td>1.467878</td>\n",
       "      <td>1.494192</td>\n",
       "      <td>4.658525</td>\n",
       "      <td>2.171984</td>\n",
       "      <td>0.946401</td>\n",
       "      <td>control ad lib</td>\n",
       "      <td>control</td>\n",
       "      <td>ad lib</td>\n",
       "    </tr>\n",
       "  </tbody>\n",
       "</table>\n",
       "</div>"
      ],
      "text/plain": [
       "       CART       NPY      AgRP     GLP1R     Npy2R      Ghsr      Insr  \\\n",
       "2  1.369340  0.748760  2.161361  1.297956  1.560879  4.597757  1.468209   \n",
       "6  1.669095  0.670232  1.381644  2.179846  3.612036  2.853085  1.652634   \n",
       "7  1.430304  1.504685  1.663850  2.070428  3.752371  2.621707  1.534294   \n",
       "3  0.450856  1.787492  0.688038  0.864752  1.325854  0.425616  1.204578   \n",
       "4  1.267757  0.936041  0.497659  1.092165  0.968283  1.218026  1.067142   \n",
       "\n",
       "       Lepr      MC4R     Cckar     Cckbr      Oxtr           group     diet  \\\n",
       "2  1.883721  0.820854  1.990703  1.074096  1.611840  control ad lib  control   \n",
       "6  2.870864  4.686374  2.871240  4.289009  1.493576  control ad lib  control   \n",
       "7  2.275886  1.668385  4.892259  2.609463  2.664512  control ad lib  control   \n",
       "3  0.918813  3.339488  2.791819  3.417703  1.214725  control ad lib  control   \n",
       "4  1.467878  1.494192  4.658525  2.171984  0.946401  control ad lib  control   \n",
       "\n",
       "  feeding_schedule  \n",
       "2           ad lib  \n",
       "6           ad lib  \n",
       "7           ad lib  \n",
       "3           ad lib  \n",
       "4           ad lib  "
      ]
     },
     "execution_count": 3,
     "metadata": {},
     "output_type": "execute_result"
    }
   ],
   "source": [
    "gene_data_location = \"https://www.dropbox.com/s/rxjk6bjw2fpa3m1/qPCR_normalized_gapdph.csv?dl=1\"\n",
    "gene_data = pd.read_csv(gene_data_location, index_col=0)\n",
    "\n",
    "# Rearrange so that Oxtr is the last gene column\n",
    "col_list = list(gene_data)\n",
    "col_list[11], col_list[8] = col_list[8], col_list[11]\n",
    "gene_data = gene_data.loc[:,col_list]\n",
    "\n",
    "\n",
    "gene_list = gene_data.columns.unique()\n",
    "# Remove outliers, that is the measurments which is larger than 7\n",
    "for c in gene_list:\n",
    "    # Find index of an outlier and replace it with NAN\n",
    "    out_ind = gene_data[c][gene_data[c]>=7].index\n",
    "    gene_data[c][out_ind ]=np.NaN\n",
    "# Add experimental group as a column to the gene dataset\n",
    "ids_in_gene_data = gene_data.index\n",
    "gene_data['group'] = metafile.group.loc[ids_in_gene_data]\n",
    "gene_data['diet'] = metafile.diet.loc[ids_in_gene_data]\n",
    "gene_data['feeding_schedule'] = metafile.feeding.loc[ids_in_gene_data]\n",
    "\n",
    "\n",
    "\n",
    "gene_data.head()"
   ]
  },
  {
   "cell_type": "code",
   "execution_count": 4,
   "metadata": {},
   "outputs": [
    {
     "data": {
      "text/plain": [
       "Int64Index([ 2,  3,  4,  5,  6,  7,  8,  9, 10, 11, 12, 13, 15, 16, 17, 18, 20,\n",
       "            21, 22, 23, 25, 26, 27, 28, 29, 30, 31, 32, 33, 34, 35, 36],\n",
       "           dtype='int64')"
      ]
     },
     "execution_count": 4,
     "metadata": {},
     "output_type": "execute_result"
    }
   ],
   "source": [
    "gene_data.sort_index().index"
   ]
  },
  {
   "cell_type": "markdown",
   "metadata": {},
   "source": [
    "## PLot  individual genes as boxplots"
   ]
  },
  {
   "cell_type": "markdown",
   "metadata": {},
   "source": [
    "Download file with plotting parameters"
   ]
  },
  {
   "cell_type": "code",
   "execution_count": 5,
   "metadata": {},
   "outputs": [
    {
     "data": {
      "text/html": [
       "<div>\n",
       "<style scoped>\n",
       "    .dataframe tbody tr th:only-of-type {\n",
       "        vertical-align: middle;\n",
       "    }\n",
       "\n",
       "    .dataframe tbody tr th {\n",
       "        vertical-align: top;\n",
       "    }\n",
       "\n",
       "    .dataframe thead th {\n",
       "        text-align: right;\n",
       "    }\n",
       "</style>\n",
       "<table border=\"1\" class=\"dataframe\">\n",
       "  <thead>\n",
       "    <tr style=\"text-align: right;\">\n",
       "      <th></th>\n",
       "      <th>color</th>\n",
       "      <th>marker</th>\n",
       "      <th>line_type</th>\n",
       "      <th>hatches</th>\n",
       "      <th>hatch_colors</th>\n",
       "      <th>fill_color</th>\n",
       "      <th>label</th>\n",
       "    </tr>\n",
       "    <tr>\n",
       "      <th>group</th>\n",
       "      <th></th>\n",
       "      <th></th>\n",
       "      <th></th>\n",
       "      <th></th>\n",
       "      <th></th>\n",
       "      <th></th>\n",
       "      <th></th>\n",
       "    </tr>\n",
       "  </thead>\n",
       "  <tbody>\n",
       "    <tr>\n",
       "      <th>control ad lib</th>\n",
       "      <td>grey</td>\n",
       "      <td>o</td>\n",
       "      <td>-</td>\n",
       "      <td></td>\n",
       "      <td>grey</td>\n",
       "      <td>grey</td>\n",
       "      <td>CA</td>\n",
       "    </tr>\n",
       "    <tr>\n",
       "      <th>control restriction</th>\n",
       "      <td>grey</td>\n",
       "      <td>v</td>\n",
       "      <td>--</td>\n",
       "      <td>/</td>\n",
       "      <td>grey</td>\n",
       "      <td>white</td>\n",
       "      <td>CR</td>\n",
       "    </tr>\n",
       "    <tr>\n",
       "      <th>HFHS ad lib</th>\n",
       "      <td>red</td>\n",
       "      <td>o</td>\n",
       "      <td>-</td>\n",
       "      <td></td>\n",
       "      <td>red</td>\n",
       "      <td>red</td>\n",
       "      <td>HA</td>\n",
       "    </tr>\n",
       "    <tr>\n",
       "      <th>HFHS restriction</th>\n",
       "      <td>red</td>\n",
       "      <td>v</td>\n",
       "      <td>--</td>\n",
       "      <td>/</td>\n",
       "      <td>red</td>\n",
       "      <td>white</td>\n",
       "      <td>HR</td>\n",
       "    </tr>\n",
       "  </tbody>\n",
       "</table>\n",
       "</div>"
      ],
      "text/plain": [
       "                    color marker line_type hatches hatch_colors fill_color  \\\n",
       "group                                                                        \n",
       "control ad lib       grey      o         -                 grey       grey   \n",
       "control restriction  grey      v        --       /         grey      white   \n",
       "HFHS ad lib           red      o         -                  red        red   \n",
       "HFHS restriction      red      v        --       /          red      white   \n",
       "\n",
       "                    label  \n",
       "group                      \n",
       "control ad lib         CA  \n",
       "control restriction    CR  \n",
       "HFHS ad lib            HA  \n",
       "HFHS restriction       HR  "
      ]
     },
     "execution_count": 5,
     "metadata": {},
     "output_type": "execute_result"
    }
   ],
   "source": [
    "plot_data_location = \"https://www.dropbox.com/s/djpbvky0mwxpups/plotting_by_group.csv?dl=1\"\n",
    "plot_parameters = pd.read_csv(plot_data_location, index_col=0)\n",
    "plot_parameters"
   ]
  },
  {
   "cell_type": "markdown",
   "metadata": {},
   "source": [
    "Make a function for individual gene plot"
   ]
  },
  {
   "cell_type": "code",
   "execution_count": 6,
   "metadata": {},
   "outputs": [],
   "source": [
    "def make_graph(data, plot_parameters, name):\n",
    "    #ax1 = sns.swarmplot(x=data.group, y=data[name], color='black', size=6)\n",
    "    ax = sns.boxplot   (x=data.group, y=data[name], color='white', linewidth=1, palette=plot_parameters.fill_color, showfliers = False)\n",
    "    # Make hatched pattern to distinguish between Ad lib and restriction\n",
    "    for i, hatch, patch in zip(plot_parameters.hatch_colors, plot_parameters.hatches, ax.artists):\n",
    "        patch.set_hatch(hatch)\n",
    "        patch.set_edgecolor(i)\n",
    "    # Add x- and y-labels, ticks, and units    \n",
    "    plt.xlabel('')\n",
    "    plt.ylabel(c.capitalize(), fontstyle = \"italic\", fontsize = \"x-large\")\n",
    "    ax.xaxis.set_major_formatter(plt.NullFormatter())"
   ]
  },
  {
   "cell_type": "markdown",
   "metadata": {},
   "source": [
    "Make a custom legend"
   ]
  },
  {
   "cell_type": "code",
   "execution_count": 7,
   "metadata": {},
   "outputs": [],
   "source": [
    "def make_legend():\n",
    "    a_val = 0.6\n",
    "    colors = ['gray','none','red','none']\n",
    "\n",
    "    circ1 = mpatches.Patch(facecolor=colors[0],hatch='',label='Cont AL')\n",
    "    circ2 = mpatches.Patch(facecolor=colors[1],hatch='//', edgecolor = \"gray\", label='Cont Res')\n",
    "    circ3 = mpatches.Patch(facecolor=colors[2],hatch='',label='HFHS AL')\n",
    "    circ4 = mpatches.Patch(facecolor=colors[3],hatch='//', edgecolor = \"red\", label='HFHS Res')\n",
    "\n",
    "    plt.legend(handles = [circ1,circ2,circ3, circ4],loc=\"upper left\", bbox_to_anchor=[0, 1], \n",
    "              fancybox = True, borderaxespad=0., prop={'size': 15})\n",
    "    # plt.tight_layout()\n",
    "    return()"
   ]
  },
  {
   "cell_type": "markdown",
   "metadata": {},
   "source": [
    "## Loop though gene names to plot barplot for experimetnal conditions"
   ]
  },
  {
   "cell_type": "code",
   "execution_count": 8,
   "metadata": {},
   "outputs": [
    {
     "name": "stderr",
     "output_type": "stream",
     "text": [
      "/Library/Frameworks/Python.framework/Versions/3.7/lib/python3.7/site-packages/ipykernel_launcher.py:20: MatplotlibDeprecationWarning: Adding an axes using the same arguments as a previous axes currently reuses the earlier instance.  In a future version, a new instance will always be created and returned.  Meanwhile, this warning can be suppressed, and the future behavior ensured, by passing a unique label to each axes instance.\n",
      "/Library/Frameworks/Python.framework/Versions/3.7/lib/python3.7/site-packages/ipykernel_launcher.py:24: MatplotlibDeprecationWarning: Adding an axes using the same arguments as a previous axes currently reuses the earlier instance.  In a future version, a new instance will always be created and returned.  Meanwhile, this warning can be suppressed, and the future behavior ensured, by passing a unique label to each axes instance.\n",
      "/Library/Frameworks/Python.framework/Versions/3.7/lib/python3.7/site-packages/ipykernel_launcher.py:28: MatplotlibDeprecationWarning: Adding an axes using the same arguments as a previous axes currently reuses the earlier instance.  In a future version, a new instance will always be created and returned.  Meanwhile, this warning can be suppressed, and the future behavior ensured, by passing a unique label to each axes instance.\n",
      "/Library/Frameworks/Python.framework/Versions/3.7/lib/python3.7/site-packages/ipykernel_launcher.py:33: MatplotlibDeprecationWarning: Adding an axes using the same arguments as a previous axes currently reuses the earlier instance.  In a future version, a new instance will always be created and returned.  Meanwhile, this warning can be suppressed, and the future behavior ensured, by passing a unique label to each axes instance.\n"
     ]
    },
    {
     "data": {
      "image/png": "[encoded data removed]",
      "text/plain": [
       "<Figure size 538.56x538.56 with 12 Axes>"
      ]
     },
     "metadata": {
      "needs_background": "light"
     },
     "output_type": "display_data"
    }
   ],
   "source": [
    "plt.figure(figsize = (7.48,7.48))\n",
    "plt.subplots_adjust(wspace = 0.3 )\n",
    "subplot_n=1\n",
    "for c in gene_list[:-1]:\n",
    "    plt.subplot(4,3,subplot_n)\n",
    "    make_graph(gene_data, plot_parameters, c)   \n",
    "    subplot_n = subplot_n+1 \n",
    "    \n",
    "\n",
    "### Designate the last subplot for the legend\n",
    "ax = plt.subplot(4,3,subplot_n)\n",
    "# Remove the x- and y-ticks\n",
    "plt.xticks([])\n",
    "plt.yticks([])\n",
    "# Remove the x- and y-axis lines\n",
    "ax.set_frame_on(False)\n",
    "make_legend()\n",
    "\n",
    "# NPY\n",
    "plt.subplot(4,3,2)\n",
    "plt.annotate('*', (2.9, 1.6), fontsize=15, color = 'black', fontweight='bold')\n",
    "\n",
    "# Ghsr\n",
    "plt.subplot(4,3,6)\n",
    "plt.annotate('#', (0.9, 2.3), fontsize=10, color = 'black', fontweight='bold')\n",
    "\n",
    "# Insr\n",
    "plt.subplot(4,3,7)\n",
    "plt.annotate('#', (0.9, 1.35), fontsize=10, color = 'black', fontweight='bold')\n",
    "plt.annotate('#', (2.9, 1.45), fontsize=10, color = 'black', fontweight='bold')\n",
    "\n",
    "# Lepr\n",
    "plt.subplot(4,3,8)\n",
    "plt.annotate('#', (0.9, 1.8), fontsize=10, color = 'black', fontweight='bold')\n",
    "\n",
    "sns.despine()\n",
    "plt.tight_layout()\n",
    "plt.savefig('Figure8.tiff', dpi = 1000)\n",
    "plt.show()"
   ]
  },
  {
   "cell_type": "code",
   "execution_count": null,
   "metadata": {},
   "outputs": [],
   "source": []
  }
 ],
 "metadata": {
  "kernelspec": {
   "display_name": "Python 3",
   "language": "python",
   "name": "python3"
  },
  "language_info": {
   "codemirror_mode": {
    "name": "ipython",
    "version": 3
   },
   "file_extension": ".py",
   "mimetype": "text/x-python",
   "name": "python",
   "nbconvert_exporter": "python",
   "pygments_lexer": "ipython3",
   "version": "3.7.4"
  }
 },
 "nbformat": 4,
 "nbformat_minor": 4
}
